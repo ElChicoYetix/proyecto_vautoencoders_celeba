{
 "cells": [
  {
   "cell_type": "code",
   "execution_count": 1,
   "metadata": {
    "colab": {
     "base_uri": "https://localhost:8080/"
    },
    "id": "cVUPI5m_jcvF",
    "outputId": "862dcf47-a366-4260-8384-8ffce96ff40f"
   },
   "outputs": [
    {
     "name": "stdout",
     "output_type": "stream",
     "text": [
      "Mounted at /content/drive\n"
     ]
    }
   ],
   "source": [
    "from google.colab import drive\n",
    "drive.mount('/content/drive')"
   ]
  },
  {
   "cell_type": "markdown",
   "metadata": {},
   "source": [
    "# Proyecto 1 - Autoencoders\n",
    "## Deep Learning\n",
    "\n",
    "### Carlos Emiliano Rodríguez Núñez\n",
    "\n",
    "#### CelebA VAE\n",
    "* Objetivos:\n",
    "Comprender los principios fundamentales de los autoencoders y su aplicación en deep learning generativo.\n",
    "Implementar un autoencoder básico y variacionales para una tarea específica, como reducción de dimensión, denoising o generación de imágenes.\n",
    "Analizar el rendimiento y las características de las representaciones aprendidas por los autoencoders.\n",
    " \n",
    "\n",
    "* Descripción\n",
    "Deberán seleccionar un conjunto de datos adecuado para su proyecto, que puede ser de imágenes, texto o cualquier otro tipo que permita la aplicación de autoencoders.\n",
    "Implementar un autoencoder, como un variacional (VAE) o un autoencoder convolucional, dependiendo de la naturaleza del conjunto de datos y el objetivo del proyecto.\n",
    "El proyecto incluirá una fase de experimentación donde los deberán entrenar, ajustar y evaluar sus modelos.\n",
    "Presentar sus resultados a través de un informe escrito y una presentación, discutir la implementación, los desafíos encontrados, el rendimiento de sus modelos y las aplicaciones potenciales de su trabajo.\n",
    " \n",
    "\n",
    "* Rúbrica del Proyecto\n",
    "La rúbrica está dividida en varias categorías, cada una con su propio conjunto de criterios y una escala de puntuación. La puntuación máxima posible es de 100 puntos.\n",
    "\n",
    "1. Documentación y Presentación (20 puntos)\n",
    "2. Diseño e Implementación (40 puntos)\n",
    "3. Experimentación y Análisis (30 puntos)\n",
    "4. Innovación y Creatividad (10 puntos)"
   ]
  },
  {
   "cell_type": "code",
   "execution_count": 2,
   "metadata": {
    "id": "BjjehA4DdNb5"
   },
   "outputs": [],
   "source": [
    "from tensorflow.keras.layers import Lambda, Input, Dense, Conv2D, Conv2DTranspose, Flatten, Reshape\n",
    "from tensorflow.keras.models import Model\n",
    "from tensorflow.keras.losses import binary_crossentropy, mean_squared_error\n",
    "from tensorflow.keras import backend as K\n",
    "import numpy as np\n",
    "import zipfile\n",
    "import os\n",
    "import shutil\n",
    "import random\n",
    "from PIL import Image\n",
    "import matplotlib.pyplot as plt\n",
    "import numpy as np"
   ]
  },
  {
   "cell_type": "markdown",
   "metadata": {},
   "source": [
    "Primero importamos librerías y determinamos el tamaño del espacio latente, del batch y las épocas."
   ]
  },
  {
   "cell_type": "code",
   "execution_count": 25,
   "metadata": {
    "id": "G1K-MY7weXzN"
   },
   "outputs": [],
   "source": [
    "batch_size = 100 # hacemos de 100 en 100 \n",
    "latent_dim = 64 # dimensión espacio latente\n",
    "epochs = 5"
   ]
  },
  {
   "cell_type": "markdown",
   "metadata": {},
   "source": [
    "Si se utiliza google colab, se elimina lo que se tenga en la carpeta content"
   ]
  },
  {
   "cell_type": "code",
   "execution_count": 4,
   "metadata": {
    "id": "3ul6A11qiBH6"
   },
   "outputs": [],
   "source": [
    "!rm -rf /content/extracted_files"
   ]
  },
  {
   "cell_type": "markdown",
   "metadata": {},
   "source": [
    "Utilizamos un dataset llamado CelebA de pytorch, el cuál contiene miles de imágenes de celebridades de todos los tiempos. Estas imágenes no están centradas ni orientadas, por lo que puede dificultar un poco el entrenamiento de un modelo `VAutoEncoder`."
   ]
  },
  {
   "cell_type": "code",
   "execution_count": 5,
   "metadata": {
    "colab": {
     "base_uri": "https://localhost:8080/"
    },
    "id": "1czuIbpp2UY1",
    "outputId": "1e0c3cf1-851b-4c81-9167-3d3553c5336d"
   },
   "outputs": [
    {
     "name": "stdout",
     "output_type": "stream",
     "text": [
      "Carpeta __MACOSX eliminada con éxito.\n",
      "¡Archivo ZIP descomprimido y carpeta __MACOSX eliminada con éxito!\n"
     ]
    }
   ],
   "source": [
    "# Ruta al archivo ZIP que deseas descomprimir\n",
    "zip_file_path = \"/content/drive/MyDrive/ITESO/APRENDIZAJE_PROFUNDO/proyecto_VAE/celebA.zip\" # \"/content/Archive.zip\" \"   /content/Archive_2.zip\"\n",
    "\n",
    "# Directorio de destino donde se extraerán los archivos\n",
    "extract_to_directory = \"/content/extracted_files\"\n",
    "\n",
    "# Crear el directorio de destino si no existe\n",
    "os.makedirs(extract_to_directory, exist_ok=True)\n",
    "\n",
    "# Descomprimir el archivo ZIP\n",
    "with zipfile.ZipFile(zip_file_path, 'r') as zip_ref:\n",
    "    zip_ref.extractall(extract_to_directory)\n",
    "\n",
    "# Eliminar la carpeta __MACOSX\n",
    "macosx_folder = os.path.join(extract_to_directory, '__MACOSX')\n",
    "if os.path.exists(macosx_folder):\n",
    "    shutil.rmtree(macosx_folder)\n",
    "    print(\"Carpeta __MACOSX eliminada con éxito.\")\n",
    "\n",
    "print(\"¡Archivo ZIP descomprimido y carpeta __MACOSX eliminada con éxito!\")\n"
   ]
  },
  {
   "cell_type": "markdown",
   "metadata": {},
   "source": [
    "Creamos una función para cargar las imágenes en pixeles de `32x32`"
   ]
  },
  {
   "cell_type": "code",
   "execution_count": 6,
   "metadata": {
    "colab": {
     "base_uri": "https://localhost:8080/"
    },
    "id": "zgHHxAyS2HJe",
    "outputId": "a642b53e-c56f-4134-a224-1d38187c036a"
   },
   "outputs": [
    {
     "name": "stdout",
     "output_type": "stream",
     "text": [
      "Dimensiones de x_train: (23967, 32, 32, 3)\n",
      "Dimensiones de y_train: (23967,)\n",
      "Dimensiones de x_test: (6033, 32, 32, 3)\n",
      "Dimensiones de y_test: (6033,)\n"
     ]
    }
   ],
   "source": [
    "# Función para cargar las imágenes\n",
    "def load_images_from_folder(folder, target_size=(32, 32)): #------------------------------------------------------------------------------- size en vez de 32\n",
    "    images = []\n",
    "    labels = []\n",
    "    for filename in os.listdir(folder):\n",
    "        img = Image.open(os.path.join(folder, filename))\n",
    "        if img is not None:\n",
    "            # Redimensionar la imagen\n",
    "            img = img.resize(target_size)\n",
    "            # Convertir a formato RGB y asegurarse de que tenga solo 3 canales\n",
    "            img = img.convert('RGB')\n",
    "            images.append(np.array(img))\n",
    "            labels.append(0 if random.random() < 0.8 else 1)\n",
    "    return images, labels\n",
    "\n",
    "# Directorio donde están tus imágenes\n",
    "root_directory = '/content/extracted_files/celebA' \n",
    "\n",
    "# Cargar las imágenes y las etiquetas\n",
    "images, labels = load_images_from_folder(root_directory)\n",
    "\n",
    "# Dividir las imágenes y las etiquetas en conjuntos de entrenamiento y prueba\n",
    "x_train = []\n",
    "y_train = []\n",
    "x_test = []\n",
    "y_test = []\n",
    "\n",
    "for img, label in zip(images, labels):\n",
    "    if label == 0:\n",
    "        x_train.append(img)\n",
    "        y_train.append(label)\n",
    "    else:\n",
    "        x_test.append(img)\n",
    "        y_test.append(label)\n",
    "\n",
    "# Convertir listas a numpy arrays\n",
    "x_train = np.array(x_train)\n",
    "y_train = np.array(y_train)\n",
    "x_test = np.array(x_test)\n",
    "y_test = np.array(y_test)\n",
    "\n",
    "# Imprimir las dimensiones de los conjuntos de entrenamiento y prueba\n",
    "print('Dimensiones de x_train:', x_train.shape)\n",
    "print('Dimensiones de y_train:', y_train.shape)\n",
    "print('Dimensiones de x_test:', x_test.shape)\n",
    "print('Dimensiones de y_test:', y_test.shape)"
   ]
  },
  {
   "cell_type": "markdown",
   "metadata": {},
   "source": [
    "Observamos que se tienen aproximadamente `+ 30 mil imágenes`, de las cuales se utilizarán 24 mil para el entrenamiento.\n",
    "Los AE tienen una entrada `x -> x` y salida x, pero es una práctica interesante separar en train y test. No se utilizará la parte 'y_'"
   ]
  },
  {
   "cell_type": "code",
   "execution_count": 8,
   "metadata": {
    "colab": {
     "base_uri": "https://localhost:8080/",
     "height": 421
    },
    "id": "AEjhGDhm32cO",
    "outputId": "80e9d972-c501-4da9-a019-6f11752bdbfb"
   },
   "outputs": [
    {
     "data": {
      "image/png": "[encoded data removed]",
      "text/plain": [
       "<Figure size 500x500 with 1 Axes>"
      ]
     },
     "metadata": {},
     "output_type": "display_data"
    }
   ],
   "source": [
    "# Convertir el lote de imágenes a un arreglo NumPy\n",
    "images = x_train\n",
    "\n",
    "# Seleccionar una imagen aleatoria del lote\n",
    "index = np.random.randint(len(images))\n",
    "\n",
    "image = images[0]\n",
    "# Mostrar la imagen\n",
    "plt.figure(figsize=(5, 5))\n",
    "plt.imshow(image)\n",
    "plt.axis('off')\n",
    "plt.show()\n"
   ]
  },
  {
   "cell_type": "markdown",
   "metadata": {},
   "source": [
    "Imprimimos una imágen aleatoria de 32x32"
   ]
  },
  {
   "cell_type": "markdown",
   "metadata": {
    "colab": {
     "base_uri": "https://localhost:8080/"
    },
    "id": "VR1H1ePFd12X",
    "outputId": "7586fef3-232f-4490-d290-00a489f2f73e"
   },
   "source": [
    "Realizamos un escalamiento porque los valores van hasta el 255 y para el AutoEncoder se requiere que esté entre `0 y 1` porque son probabilidades."
   ]
  },
  {
   "cell_type": "code",
   "execution_count": 11,
   "metadata": {
    "id": "kY7DYiQHelc8"
   },
   "outputs": [],
   "source": [
    "x_train = x_train.astype('float32') / 255\n",
    "x_test = x_test.astype('float32') / 255\n",
    "input_shape = x_train.shape[1:]"
   ]
  },
  {
   "cell_type": "markdown",
   "metadata": {},
   "source": [
    "Realizamos la función de sampling que utiliza el `promedio` y la `varianza` para generar `el espacio latente`. Creamos el modelo de CONV2D desde 32 hasta 128 con funciones de activación tanh."
   ]
  },
  {
   "cell_type": "code",
   "execution_count": 13,
   "metadata": {
    "id": "7nl_nIdtfW3Q"
   },
   "outputs": [],
   "source": [
    "def sampling(args):\n",
    "  z_mean, z_log_var = args\n",
    "\n",
    "  dim = K.int_shape(z_mean)[1]\n",
    "\n",
    "  epsilon = K.random_normal(shape = (K.shape(z_mean)[0], latent_dim))\n",
    "\n",
    "  return z_mean + K.exp(0.5 * z_log_var) * epsilon\n",
    "\n",
    "  # build encoder model\n",
    "inputs = Input(shape=input_shape, name='encoder_input')\n",
    "x = Conv2D(32, 3, activation = \"tanh\", strides = 2, padding = \"same\")(inputs)\n",
    "x = Conv2D(64, 3, activation = \"tanh\", strides = 2, padding = \"same\")(x)\n",
    "#-----------------------------------------------------------------------\n",
    "x = Conv2D(128, 3, activation = \"tanh\", strides = 2, padding = \"same\")(x)\n",
    "# x = Conv2D(256, 3, activation = \"relu\", strides = 2, padding = \"same\")(x)\n",
    "\n",
    "\n",
    "# reshape flatten, hay q guardar las salidas de la capa\n",
    "shape_before_flat = K.int_shape(x)\n",
    "\n",
    "x = Flatten()(x)\n",
    "x = Dense(256, activation = \"tanh\")(x) # flat para encontrar la media y la varianca\n",
    "\n",
    "z_mean = Dense(latent_dim, name='z_mean')(x)\n",
    "z_log_var = Dense(latent_dim, name='z_log_var')(x)"
   ]
  },
  {
   "cell_type": "code",
   "execution_count": 14,
   "metadata": {
    "colab": {
     "base_uri": "https://localhost:8080/"
    },
    "id": "Scp-QhcKj0N8",
    "outputId": "1152f5ff-9924-482a-c671-ccd1450aa9da"
   },
   "outputs": [
    {
     "name": "stdout",
     "output_type": "stream",
     "text": [
      "Model: \"encoder\"\n",
      "__________________________________________________________________________________________________\n",
      " Layer (type)                Output Shape                 Param #   Connected to                  \n",
      "==================================================================================================\n",
      " encoder_input (InputLayer)  [(None, 32, 32, 3)]          0         []                            \n",
      "                                                                                                  \n",
      " conv2d (Conv2D)             (None, 16, 16, 32)           896       ['encoder_input[0][0]']       \n",
      "                                                                                                  \n",
      " conv2d_1 (Conv2D)           (None, 8, 8, 64)             18496     ['conv2d[0][0]']              \n",
      "                                                                                                  \n",
      " conv2d_2 (Conv2D)           (None, 4, 4, 128)            73856     ['conv2d_1[0][0]']            \n",
      "                                                                                                  \n",
      " flatten (Flatten)           (None, 2048)                 0         ['conv2d_2[0][0]']            \n",
      "                                                                                                  \n",
      " dense (Dense)               (None, 256)                  524544    ['flatten[0][0]']             \n",
      "                                                                                                  \n",
      " z_mean (Dense)              (None, 64)                   16448     ['dense[0][0]']               \n",
      "                                                                                                  \n",
      " z_log_var (Dense)           (None, 64)                   16448     ['dense[0][0]']               \n",
      "                                                                                                  \n",
      " z (Lambda)                  (None, 64)                   0         ['z_mean[0][0]',              \n",
      "                                                                     'z_log_var[0][0]']           \n",
      "                                                                                                  \n",
      "==================================================================================================\n",
      "Total params: 650688 (2.48 MB)\n",
      "Trainable params: 650688 (2.48 MB)\n",
      "Non-trainable params: 0 (0.00 Byte)\n",
      "__________________________________________________________________________________________________\n"
     ]
    }
   ],
   "source": [
    "z = Lambda(sampling, output_shape=(latent_dim,), name='z')([z_mean, z_log_var])\n",
    "\n",
    "encoder = Model(inputs, [z_mean, z_log_var, z], name='encoder')\n",
    "encoder.summary()"
   ]
  },
  {
   "cell_type": "markdown",
   "metadata": {
    "colab": {
     "base_uri": "https://localhost:8080/"
    },
    "id": "fzxRizb0-r_e",
    "outputId": "511b1837-82a0-446a-93e1-8bf143e00b82"
   },
   "source": [
    "Realizamos el decoder con un \"efecto espejo\" al encoding, solo que poniendo una capa final con función de activación `sigmoide` que de probabilidades de valores entre `0 - 1`, que son las imágenes."
   ]
  },
  {
   "cell_type": "code",
   "execution_count": 16,
   "metadata": {
    "colab": {
     "base_uri": "https://localhost:8080/"
    },
    "id": "3pwcQWX4kACQ",
    "outputId": "7d279e66-28f9-4909-bf89-20e1eddcd3a5"
   },
   "outputs": [
    {
     "name": "stdout",
     "output_type": "stream",
     "text": [
      "Model: \"decoder\"\n",
      "_________________________________________________________________\n",
      " Layer (type)                Output Shape              Param #   \n",
      "=================================================================\n",
      " z_sampling (InputLayer)     [(None, 64)]              0         \n",
      "                                                                 \n",
      " dense_1 (Dense)             (None, 2048)              133120    \n",
      "                                                                 \n",
      " reshape (Reshape)           (None, 4, 4, 128)         0         \n",
      "                                                                 \n",
      " conv2d_transpose (Conv2DTr  (None, 8, 8, 128)         147584    \n",
      " anspose)                                                        \n",
      "                                                                 \n",
      " conv2d_transpose_1 (Conv2D  (None, 16, 16, 64)        73792     \n",
      " Transpose)                                                      \n",
      "                                                                 \n",
      " conv2d_transpose_2 (Conv2D  (None, 32, 32, 32)        18464     \n",
      " Transpose)                                                      \n",
      "                                                                 \n",
      " conv2d_transpose_3 (Conv2D  (None, 32, 32, 3)         867       \n",
      " Transpose)                                                      \n",
      "                                                                 \n",
      "=================================================================\n",
      "Total params: 373827 (1.43 MB)\n",
      "Trainable params: 373827 (1.43 MB)\n",
      "Non-trainable params: 0 (0.00 Byte)\n",
      "_________________________________________________________________\n"
     ]
    }
   ],
   "source": [
    "latent_inputs = Input(shape=(latent_dim,), name='z_sampling')\n",
    "\n",
    "# Check if work\n",
    "x = Dense(np.prod(shape_before_flat[1:]), activation = \"tanh\")(latent_inputs)\n",
    "x = Reshape(shape_before_flat[1:])(x)\n",
    "#------------------------------------------------------------------------------------------------\n",
    "# x = Conv2DTranspose(256, 3, activation = \"relu\", strides = 2, padding = \"same\")(x) tanh relu\n",
    "x = Conv2DTranspose(128, 3, activation = \"tanh\", strides = 2, padding = \"same\")(x)\n",
    "#------------------------------------------------------------------------------------------------\n",
    "x = Conv2DTranspose(64, 3, activation = \"tanh\", strides = 2, padding = \"same\")(x)\n",
    "x = Conv2DTranspose(32, 3, activation = \"tanh\", strides = 2, padding = \"same\")(x)\n",
    "\n",
    "outputs = Conv2DTranspose(3, 3, activation = \"sigmoid\", padding = \"same\")(x) # sigmoid\n",
    "decoder = Model(latent_inputs, outputs, name='decoder')\n",
    "decoder.summary()"
   ]
  },
  {
   "cell_type": "code",
   "execution_count": 17,
   "metadata": {
    "colab": {
     "base_uri": "https://localhost:8080/"
    },
    "id": "E8WexQpynKxX",
    "outputId": "b8a4f1b3-e6a4-4642-b365-745affaa9881"
   },
   "outputs": [
    {
     "name": "stdout",
     "output_type": "stream",
     "text": [
      "Model: \"vae\"\n",
      "__________________________________________________________________________________________________\n",
      " Layer (type)                Output Shape                 Param #   Connected to                  \n",
      "==================================================================================================\n",
      " encoder_input (InputLayer)  [(None, 32, 32, 3)]          0         []                            \n",
      "                                                                                                  \n",
      " encoder (Functional)        [(None, 64),                 650688    ['encoder_input[0][0]']       \n",
      "                              (None, 64),                                                         \n",
      "                              (None, 64)]                                                         \n",
      "                                                                                                  \n",
      " decoder (Functional)        (None, 32, 32, 3)            373827    ['encoder[0][2]']             \n",
      "                                                                                                  \n",
      " conv2d (Conv2D)             (None, 16, 16, 32)           896       ['encoder_input[0][0]']       \n",
      "                                                                                                  \n",
      " conv2d_1 (Conv2D)           (None, 8, 8, 64)             18496     ['conv2d[0][0]']              \n",
      "                                                                                                  \n",
      " conv2d_2 (Conv2D)           (None, 4, 4, 128)            73856     ['conv2d_1[0][0]']            \n",
      "                                                                                                  \n",
      " flatten (Flatten)           (None, 2048)                 0         ['conv2d_2[0][0]']            \n",
      "                                                                                                  \n",
      " dense (Dense)               (None, 256)                  524544    ['flatten[0][0]']             \n",
      "                                                                                                  \n",
      " z_log_var (Dense)           (None, 64)                   16448     ['dense[0][0]']               \n",
      "                                                                                                  \n",
      " z_mean (Dense)              (None, 64)                   16448     ['dense[0][0]']               \n",
      "                                                                                                  \n",
      " tf.__operators__.add (TFOp  (None, 64)                   0         ['z_log_var[0][0]']           \n",
      " Lambda)                                                                                          \n",
      "                                                                                                  \n",
      " tf.math.square (TFOpLambda  (None, 64)                   0         ['z_mean[0][0]']              \n",
      " )                                                                                                \n",
      "                                                                                                  \n",
      " tf.reshape_1 (TFOpLambda)   (None,)                      0         ['decoder[0][0]']             \n",
      "                                                                                                  \n",
      " tf.reshape (TFOpLambda)     (None,)                      0         ['encoder_input[0][0]']       \n",
      "                                                                                                  \n",
      " tf.math.subtract (TFOpLamb  (None, 64)                   0         ['tf.__operators__.add[0][0]',\n",
      " da)                                                                 'tf.math.square[0][0]']      \n",
      "                                                                                                  \n",
      " tf.math.exp (TFOpLambda)    (None, 64)                   0         ['z_log_var[0][0]']           \n",
      "                                                                                                  \n",
      " tf.convert_to_tensor (TFOp  (None,)                      0         ['tf.reshape_1[0][0]']        \n",
      " Lambda)                                                                                          \n",
      "                                                                                                  \n",
      " tf.cast (TFOpLambda)        (None,)                      0         ['tf.reshape[0][0]']          \n",
      "                                                                                                  \n",
      " tf.math.subtract_1 (TFOpLa  (None, 64)                   0         ['tf.math.subtract[0][0]',    \n",
      " mbda)                                                               'tf.math.exp[0][0]']         \n",
      "                                                                                                  \n",
      " tf.math.squared_difference  (None,)                      0         ['tf.convert_to_tensor[0][0]',\n",
      "  (TFOpLambda)                                                       'tf.cast[0][0]']             \n",
      "                                                                                                  \n",
      " tf.math.reduce_sum (TFOpLa  (None,)                      0         ['tf.math.subtract_1[0][0]']  \n",
      " mbda)                                                                                            \n",
      "                                                                                                  \n",
      " tf.math.reduce_mean (TFOpL  ()                           0         ['tf.math.squared_difference[0\n",
      " ambda)                                                             ][0]']                        \n",
      "                                                                                                  \n",
      " tf.math.multiply (TFOpLamb  (None,)                      0         ['tf.math.reduce_sum[0][0]']  \n",
      " da)                                                                                              \n",
      "                                                                                                  \n",
      " tf.__operators__.add_1 (TF  (None,)                      0         ['tf.math.reduce_mean[0][0]', \n",
      " OpLambda)                                                           'tf.math.multiply[0][0]']    \n",
      "                                                                                                  \n",
      " tf.math.reduce_mean_1 (TFO  ()                           0         ['tf.__operators__.add_1[0][0]\n",
      " pLambda)                                                           ']                            \n",
      "                                                                                                  \n",
      " add_loss (AddLoss)          ()                           0         ['tf.math.reduce_mean_1[0][0]'\n",
      "                                                                    ]                             \n",
      "                                                                                                  \n",
      "==================================================================================================\n",
      "Total params: 1024515 (3.91 MB)\n",
      "Trainable params: 1024515 (3.91 MB)\n",
      "Non-trainable params: 0 (0.00 Byte)\n",
      "__________________________________________________________________________________________________\n"
     ]
    }
   ],
   "source": [
    "outputs = decoder(encoder(inputs)[2])\n",
    "vae = Model(inputs, outputs, name = 'vae')\n",
    "\n",
    "\n",
    "# reconstruction_loss = mean_squared_error(K.flatten(inputs), K.flatten(outputs) * input_shape[0] * input_shape[1])\n",
    "reconstruction_loss = mean_squared_error(K.flatten(inputs), K.flatten(outputs))\n",
    "\n",
    "kl_loss = 1 + z_log_var - K.square(z_mean) - K.exp(z_log_var)\n",
    "kl_loss = K.sum(kl_loss, axis=-1)\n",
    "kl_loss *= -0.5\n",
    "vae_loss = K.mean(reconstruction_loss + kl_loss)\n",
    "\n",
    "\n",
    "vae.add_loss(vae_loss)\n",
    "vae.compile(optimizer='adam')\n",
    "vae.summary()"
   ]
  },
  {
   "cell_type": "markdown",
   "metadata": {},
   "source": [
    "Entrenamos."
   ]
  },
  {
   "cell_type": "code",
   "execution_count": 26,
   "metadata": {
    "colab": {
     "base_uri": "https://localhost:8080/"
    },
    "id": "68lJqKp4n7M3",
    "outputId": "735a5746-458d-4a12-d08e-398ddec6718e"
   },
   "outputs": [
    {
     "name": "stdout",
     "output_type": "stream",
     "text": [
      "Epoch 1/50\n",
      "240/240 [==============================] - 3s 13ms/step - loss: 0.0776 - val_loss: 0.0766\n",
      "Epoch 2/50\n",
      "240/240 [==============================] - 3s 12ms/step - loss: 0.0773 - val_loss: 0.0764\n",
      "Epoch 3/50\n",
      "240/240 [==============================] - 3s 12ms/step - loss: 0.0771 - val_loss: 0.0763\n",
      "Epoch 4/50\n",
      "240/240 [==============================] - 3s 14ms/step - loss: 0.0770 - val_loss: 0.0762\n",
      "Epoch 5/50\n",
      "240/240 [==============================] - 3s 13ms/step - loss: 0.0769 - val_loss: 0.0761\n",
      "Epoch 6/50\n",
      "240/240 [==============================] - 3s 12ms/step - loss: 0.0768 - val_loss: 0.0761\n",
      "Epoch 7/50\n",
      "240/240 [==============================] - 3s 12ms/step - loss: 0.0768 - val_loss: 0.0760\n",
      "Epoch 8/50\n",
      "240/240 [==============================] - 3s 13ms/step - loss: 0.0767 - val_loss: 0.0759\n",
      "Epoch 9/50\n",
      "240/240 [==============================] - 3s 13ms/step - loss: 0.0767 - val_loss: 0.0759\n",
      "Epoch 10/50\n",
      "240/240 [==============================] - 3s 13ms/step - loss: 0.0767 - val_loss: 0.0759\n",
      "Epoch 11/50\n",
      "240/240 [==============================] - 3s 13ms/step - loss: 0.0766 - val_loss: 0.0759\n",
      "Epoch 12/50\n",
      "240/240 [==============================] - 3s 13ms/step - loss: 0.0766 - val_loss: 0.0759\n",
      "Epoch 13/50\n",
      "240/240 [==============================] - 3s 14ms/step - loss: 0.0766 - val_loss: 0.0758\n",
      "Epoch 14/50\n",
      "240/240 [==============================] - 3s 13ms/step - loss: 0.0766 - val_loss: 0.0758\n",
      "Epoch 15/50\n",
      "240/240 [==============================] - 3s 13ms/step - loss: 0.0766 - val_loss: 0.0758\n",
      "Epoch 16/50\n",
      "240/240 [==============================] - 3s 13ms/step - loss: 0.0766 - val_loss: 0.0758\n",
      "Epoch 17/50\n",
      "240/240 [==============================] - 3s 15ms/step - loss: 0.0765 - val_loss: 0.0758\n",
      "Epoch 18/50\n",
      "240/240 [==============================] - 3s 13ms/step - loss: 0.0766 - val_loss: 0.0757\n",
      "Epoch 19/50\n",
      "240/240 [==============================] - 4s 15ms/step - loss: 0.0765 - val_loss: 0.0757\n",
      "Epoch 20/50\n",
      "240/240 [==============================] - 3s 13ms/step - loss: 0.0765 - val_loss: 0.0757\n",
      "Epoch 21/50\n",
      "240/240 [==============================] - 3s 15ms/step - loss: 0.0765 - val_loss: 0.0757\n",
      "Epoch 22/50\n",
      "240/240 [==============================] - 3s 13ms/step - loss: 0.0765 - val_loss: 0.0757\n",
      "Epoch 23/50\n",
      "240/240 [==============================] - 3s 13ms/step - loss: 0.0765 - val_loss: 0.0757\n",
      "Epoch 24/50\n",
      "240/240 [==============================] - 3s 13ms/step - loss: 0.0765 - val_loss: 0.0757\n",
      "Epoch 25/50\n",
      "240/240 [==============================] - 3s 14ms/step - loss: 0.0765 - val_loss: 0.0757\n",
      "Epoch 26/50\n",
      "240/240 [==============================] - 3s 13ms/step - loss: 0.0765 - val_loss: 0.0757\n",
      "Epoch 27/50\n",
      "240/240 [==============================] - 3s 13ms/step - loss: 0.0765 - val_loss: 0.0757\n",
      "Epoch 28/50\n",
      "240/240 [==============================] - 3s 13ms/step - loss: 0.0765 - val_loss: 0.0757\n",
      "Epoch 29/50\n",
      "240/240 [==============================] - 4s 15ms/step - loss: 0.0765 - val_loss: 0.0757\n",
      "Epoch 30/50\n",
      "240/240 [==============================] - 3s 13ms/step - loss: 0.0765 - val_loss: 0.0757\n",
      "Epoch 31/50\n",
      "240/240 [==============================] - 3s 13ms/step - loss: 0.0765 - val_loss: 0.0757\n",
      "Epoch 32/50\n",
      "240/240 [==============================] - 3s 13ms/step - loss: 0.0765 - val_loss: 0.0757\n",
      "Epoch 33/50\n",
      "240/240 [==============================] - 3s 14ms/step - loss: 0.0765 - val_loss: 0.0757\n",
      "Epoch 34/50\n",
      "240/240 [==============================] - 3s 14ms/step - loss: 0.0765 - val_loss: 0.0757\n",
      "Epoch 35/50\n",
      "240/240 [==============================] - 3s 13ms/step - loss: 0.0765 - val_loss: 0.0757\n",
      "Epoch 36/50\n",
      "240/240 [==============================] - 3s 13ms/step - loss: 0.0765 - val_loss: 0.0757\n",
      "Epoch 37/50\n",
      "240/240 [==============================] - 3s 13ms/step - loss: 0.0765 - val_loss: 0.0757\n",
      "Epoch 38/50\n",
      "240/240 [==============================] - 3s 14ms/step - loss: 0.0765 - val_loss: 0.0757\n",
      "Epoch 39/50\n",
      "240/240 [==============================] - 3s 13ms/step - loss: 0.0765 - val_loss: 0.0757\n",
      "Epoch 40/50\n",
      "240/240 [==============================] - 3s 13ms/step - loss: 0.0765 - val_loss: 0.0757\n",
      "Epoch 41/50\n",
      "240/240 [==============================] - 3s 13ms/step - loss: 0.0765 - val_loss: 0.0757\n",
      "Epoch 42/50\n",
      "240/240 [==============================] - 3s 14ms/step - loss: 0.0765 - val_loss: 0.0757\n",
      "Epoch 43/50\n",
      "240/240 [==============================] - 3s 13ms/step - loss: 0.0765 - val_loss: 0.0757\n",
      "Epoch 44/50\n",
      "240/240 [==============================] - 3s 13ms/step - loss: 0.0765 - val_loss: 0.0757\n",
      "Epoch 45/50\n",
      "240/240 [==============================] - 3s 13ms/step - loss: 0.0765 - val_loss: 0.0758\n",
      "Epoch 46/50\n",
      "240/240 [==============================] - 3s 14ms/step - loss: 1.6230 - val_loss: 0.0757\n",
      "Epoch 47/50\n",
      "240/240 [==============================] - 3s 13ms/step - loss: 0.0765 - val_loss: 0.0757\n",
      "Epoch 48/50\n",
      "240/240 [==============================] - 3s 13ms/step - loss: 0.0765 - val_loss: 0.0757\n",
      "Epoch 49/50\n",
      "240/240 [==============================] - 3s 13ms/step - loss: 0.0765 - val_loss: 0.0757\n",
      "Epoch 50/50\n",
      "240/240 [==============================] - 3s 14ms/step - loss: 0.0765 - val_loss: 0.0757\n"
     ]
    },
    {
     "data": {
      "text/plain": [
       "<keras.src.callbacks.History at 0x78dee01098d0>"
      ]
     },
     "execution_count": 26,
     "metadata": {},
     "output_type": "execute_result"
    }
   ],
   "source": [
    "# Train the autoencoder\n",
    "vae.fit(x_train,\n",
    "        epochs=epochs, # epochs\n",
    "        batch_size=batch_size,\n",
    "        validation_data=(x_test, None))\n"
   ]
  },
  {
   "cell_type": "markdown",
   "metadata": {},
   "source": [
    "Con el siguiente código y usando el x_test, realizamos un encoding para obtener la media y varianza, sacar el espacio latente y después decodeamos para generár la imágen de una celebridad totalmente inventada."
   ]
  },
  {
   "cell_type": "code",
   "execution_count": 27,
   "metadata": {
    "colab": {
     "base_uri": "https://localhost:8080/"
    },
    "id": "ISXQtvy8Es8A",
    "outputId": "e07520c1-a58a-4406-a509-8d8037c355ea"
   },
   "outputs": [
    {
     "name": "stdout",
     "output_type": "stream",
     "text": [
      "189/189 [==============================] - 0s 2ms/step\n",
      "189/189 [==============================] - 0s 2ms/step\n"
     ]
    }
   ],
   "source": [
    "# Obtener z_mean, z_log_var para un lote de imágenes de entrada\n",
    "z_mean_batch, z_log_var_batch, _ = encoder.predict(x_test)\n",
    "\n",
    "# Utilizar la función de muestreo para generar muestras de la distribución latente\n",
    "latent_samples = sampling([z_mean_batch, z_log_var_batch])\n",
    "\n",
    "# Decodificar las muestras generadas para obtener imágenes \"inventadas\"\n",
    "decoded_images = decoder.predict(latent_samples)\n"
   ]
  },
  {
   "cell_type": "code",
   "execution_count": 28,
   "metadata": {
    "colab": {
     "base_uri": "https://localhost:8080/",
     "height": 405
    },
    "id": "8ubsQe5zE61D",
    "outputId": "bbc0700a-9233-4fa0-f02c-a0da6c41d369"
   },
   "outputs": [
    {
     "data": {
      "image/png": "[encoded data removed]",
      "text/plain": [
       "<Figure size 640x480 with 1 Axes>"
      ]
     },
     "metadata": {},
     "output_type": "display_data"
    }
   ],
   "source": [
    "# Elegir una de las imágenes generadas para mostrar\n",
    "image_to_show = decoded_images[0]\n",
    "\n",
    "# Mostrar la imagen generada\n",
    "plt.imshow(image_to_show)\n",
    "plt.axis('off')\n",
    "plt.show()\n"
   ]
  },
  {
   "cell_type": "markdown",
   "metadata": {},
   "source": [
    "Nmms se ve bien turbio."
   ]
  }
 ],
 "metadata": {
  "colab": {
   "provenance": []
  },
  "kernelspec": {
   "display_name": "Python 3 (ipykernel)",
   "language": "python",
   "name": "python3"
  },
  "language_info": {
   "codemirror_mode": {
    "name": "ipython",
    "version": 3
   },
   "file_extension": ".py",
   "mimetype": "text/x-python",
   "name": "python",
   "nbconvert_exporter": "python",
   "pygments_lexer": "ipython3",
   "version": "3.9.10"
  }
 },
 "nbformat": 4,
 "nbformat_minor": 1
}
